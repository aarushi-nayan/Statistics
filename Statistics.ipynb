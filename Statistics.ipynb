{
  "nbformat": 4,
  "nbformat_minor": 0,
  "metadata": {
    "colab": {
      "provenance": []
    },
    "kernelspec": {
      "name": "python3",
      "display_name": "Python 3"
    },
    "language_info": {
      "name": "python"
    }
  },
  "cells": [
    {
      "cell_type": "code",
      "execution_count": null,
      "metadata": {
        "id": "Ux_3dSbRrT2D"
      },
      "outputs": [],
      "source": []
    },
    {
      "cell_type": "markdown",
      "source": [
        "#Assignment Statistics Basics\n",
        "\n",
        "Q1.What is statistics, and why is it important?\n",
        "\n",
        "--->Statistics is the study of collecting, analyzing, interpreting, and presenting data.\n",
        "\n",
        "Importance:\n",
        "It helps in making informed decisions, understanding trends, solving problems using data, and drawing meaningful conclusions in fields like business, science, healthcare, and government.\n",
        "\n",
        "Q2. What are the two main types of statistics?\n",
        "\n",
        "--->The two main types of statistics are:\n",
        "\n",
        "Descriptive Statistics – Summarizes and describes the features of a dataset (e.g., mean, median, charts).\n",
        "\n",
        "Inferential Statistics – Makes predictions or inferences about a population based on a sample (e.g., hypothesis testing, confidence intervals).\n",
        "\n",
        "Q3. What are descriptive statistics?\n",
        "\n",
        "---> Descriptive statistics are methods used to summarize and organize data so it can be easily understood.\n",
        "\n",
        "It includes:\n",
        "\n",
        "Measures of central tendency (mean, median, mode)\n",
        "\n",
        "Measures of dispersion (range, variance, standard deviation)\n",
        "\n",
        "Data visualization (charts, graphs, tables)\n",
        "\n",
        "These statistics describe the main features of a dataset without making conclusions beyond the data.\n",
        "\n",
        "Q4. What is inferential statistics?\n",
        "\n",
        "---> Inferential statistics is the process of using data from a sample to make predictions, estimates, or decisions about a larger population.\n",
        "\n",
        "It includes techniques like:\n",
        "\n",
        "Hypothesis testing\n",
        "\n",
        "Confidence intervals\n",
        "\n",
        "Regression analysis\n",
        "\n",
        "Chi-square tests, etc.\n",
        "\n",
        "Q5. What is sampling in statistics?\n",
        "\n",
        "--->Sampling in statistics is the process of selecting a subset (sample) from a larger group (population) to analyze and draw conclusions about the whole population.\n",
        "\n",
        "It is used when studying the entire population is impractical due to time, cost, or size.\n",
        "\n",
        "Common types of sampling include:\n",
        "\n",
        "Random sampling\n",
        "\n",
        "Stratified sampling\n",
        "\n",
        "Systematic sampling\n",
        "\n",
        "Cluster sampling\n",
        "\n",
        "Q6. What are the different types of sampling methods?\n",
        "\n",
        "--->The main types of sampling methods are:\n",
        "\n",
        "1. Probability Sampling (every member has a known chance of selection):\n",
        "Simple Random Sampling: Every member has an equal chance.\n",
        "\n",
        "Stratified Sampling: Population is divided into groups (strata), and samples are taken from each group.\n",
        "\n",
        "Systematic Sampling: Every kth member is selected from a list.\n",
        "\n",
        "Cluster Sampling: Population is divided into clusters, and some clusters are randomly selected for study.\n",
        "\n",
        "2. Non-Probability Sampling (not everyone has a known or equal chance):\n",
        "Convenience Sampling: Sample is taken from a group easy to access.\n",
        "\n",
        "Judgmental/Purposive Sampling: Sample is selected based on the researcher’s judgment.\n",
        "\n",
        "Quota Sampling: Sample reflects certain characteristics in proportion.\n",
        "\n",
        "Snowball Sampling: Existing subjects refer new participants (often used in hard-to-reach populations).\n",
        "\n",
        "Q7. What is the difference between random and non-random sampling?\n",
        "\n",
        "---> The difference between random and non-random sampling lies in how the samples are selected:\n",
        "\n",
        "Random Sampling (Probability Sampling):\n",
        "Every member of the population has a known and equal chance of being selected.\n",
        "\n",
        "Unbiased and representative of the population.\n",
        "\n",
        "Examples: Simple random sampling, stratified sampling.\n",
        "\n",
        "Non-Random Sampling (Non-Probability Sampling):\n",
        "Members are selected based on convenience, judgment, or other non-random criteria.\n",
        "\n",
        "May introduce bias and not fully represent the population.\n",
        "\n",
        "Examples: Convenience sampling, purposive sampling.\n",
        "\n",
        "Key difference:\n",
        "Random sampling is based on chance, while non-random sampling is based on choice or availability.\n",
        "\n",
        "Q8. Define and give examples of qualitative and quantitative data?\n",
        "\n",
        "--->Qualitative Data\n",
        "Definition: Non-numeric data that describes qualities or characteristics.\n",
        "\n",
        "Examples:\n",
        "\n",
        "Eye color (e.g., brown, blue)\n",
        "\n",
        "Customer feedback (e.g., \"good\", \"poor\")\n",
        "\n",
        "Gender (e.g., male, female)\n",
        "\n",
        "Quantitative Data\n",
        "Definition: Numeric data that can be measured or counted.\n",
        "\n",
        "Examples:\n",
        "\n",
        "Age (e.g., 25 years)\n",
        "\n",
        "Height (e.g., 160 cm)\n",
        "\n",
        "Number of students in a class (e.g., 40)\n",
        "\n",
        "Q9. What are the different types of data in statistics?\n",
        "\n",
        "---> In statistics, data is broadly classified into two main types, which are further divided into subtypes:\n",
        "\n",
        "1. Qualitative (Categorical) Data\n",
        "Describes qualities or categories; not numeric.\n",
        "\n",
        "Nominal: Categories with no order\n",
        "\n",
        "Examples: Gender, colors, religion\n",
        "\n",
        "Ordinal: Categories with a meaningful order, but no fixed interval\n",
        "\n",
        "Examples: Education level (High School, Bachelor's, Master's), rankings (1st, 2nd, 3rd)\n",
        "\n",
        "2. Quantitative (Numerical) Data\n",
        "Represents measurable quantities.\n",
        "\n",
        "Discrete: Countable numbers\n",
        "\n",
        "Examples: Number of children, number of cars\n",
        "\n",
        "Continuous: Measurable and can take any value within a range\n",
        "\n",
        "Examples: Height, weight, temperature\n",
        "\n",
        "Q10. Explain nominal, ordinal, interval, and ratio levels of measurement?\n",
        "\n",
        "--->The four levels of measurement in statistics define how data can be categorized, ordered, and used for analysis:\n",
        "\n",
        "1. Nominal\n",
        "Definition: Data is categorized only, with no order.\n",
        "\n",
        "Example: Gender (male, female), Colors (red, blue, green)\n",
        "\n",
        "Key Feature: Labels only.\n",
        "\n",
        "2. Ordinal\n",
        "Definition: Data is categorized with a meaningful order, but the differences between values are not measurable.\n",
        "\n",
        "Example: Satisfaction levels (low, medium, high), Class ranks (1st, 2nd, 3rd)\n",
        "\n",
        "Key Feature: Order matters, but not the exact difference.\n",
        "\n",
        "3. Interval\n",
        "Definition: Data is ordered with equal intervals, but no true zero.\n",
        "\n",
        "Example: Temperature in Celsius or Fahrenheit\n",
        "\n",
        "Key Feature: Differences are meaningful, but zero is arbitrary (no true absence).\n",
        "\n",
        "4. Ratio\n",
        "Definition: Like interval, but with a true zero point.\n",
        "\n",
        "Example: Weight, height, age, income\n",
        "\n",
        "Key Feature: All mathematical operations are valid (can say \"twice as much\").\n",
        "\n",
        "Q11. What is the measure of central tendency?\n",
        "\n",
        "---> Measure of central tendency is a statistical value that represents the center or typical value of a dataset.\n",
        "\n",
        "It helps summarize a large set of data by identifying a single value that best describes the entire dataset.\n",
        "\n",
        "The most common measures are:\n",
        "\n",
        "Mean (average)\n",
        "\n",
        "Median (middle value)\n",
        "\n",
        "Mode (most frequent value)\n",
        "\n",
        "Q12. Define mean, median, and mode.\n",
        "\n",
        "--->Mean: The average of all data values, calculated by adding them up and dividing by the number of values.\n",
        "Example: For data [2, 4, 6], mean = (2+4+6)/3 = 4.\n",
        "\n",
        "Median: The middle value when the data is arranged in order. If there’s an even number of values, it’s the average of the two middle ones.\n",
        "Example: For [2, 4, 6], median = 4; for [2, 4, 6, 8], median = (4+6)/2 = 5.\n",
        "\n",
        "Mode: The value that appears most frequently in the dataset. A dataset can have one mode, more than one, or none.\n",
        "Example: For [2, 4, 4, 6], mode = 4.\n",
        "\n",
        "Q13. What is the significance of the measure of central tendency?\n",
        "\n",
        "---> The significance of measures of central tendency is that they:\n",
        "\n",
        "Summarize a large set of data with a single representative value, making it easier to understand the overall pattern.\n",
        "\n",
        "Help identify the typical or average value in the dataset.\n",
        "\n",
        "Assist in comparing different datasets or groups.\n",
        "\n",
        "Serve as a basis for further statistical analysis and decision-making.\n",
        "\n",
        "Provide insights into the distribution and trends within the data.\n",
        "\n",
        "Q14. What is variance, and how is it calculated?\n",
        "\n",
        "--->Variance measures how much the data values spread out or vary from the mean (average).\n",
        "\n",
        "How to calculate variance:\n",
        "Find the mean of the data.\n",
        "\n",
        "Subtract the mean from each data point and square the result (to avoid negatives).\n",
        "\n",
        "Find the average of these squared differences.\n",
        "\n",
        "Q15. What is standard deviation, and why is it important?\n",
        "\n",
        "---> Standard deviation is a measure that shows how much the data points typically deviate or spread out from the mean.\n",
        "\n",
        "It is the square root of the variance, so it’s in the same units as the data, making it easier to interpret.\n",
        "\n",
        "Why is it important?\n",
        "It tells us how consistent or variable the data is.\n",
        "\n",
        "A small standard deviation means data points are close to the mean (less spread).\n",
        "\n",
        "A large standard deviation means data points are spread out over a wider range.\n",
        "\n",
        "It helps in comparing variability between different datasets.\n",
        "\n",
        "Widely used in statistics to understand risk, reliability, and quality control.\n",
        "\n",
        "Q16. Define and explain the term range in statistics.\n",
        "\n",
        "---> Range in statistics is the simplest measure of spread or dispersion in a dataset.\n",
        "\n",
        "Definition:\n",
        "It is the difference between the largest (maximum) and smallest (minimum) values in the data.\n",
        " Formula ---\n",
        " Range = Maximum value - Minimum value\n",
        "\n",
        " Q17. What is the difference between variance and standard deviation?\n",
        "\n",
        " ---> Variance shows the average squared deviation, while standard deviation gives the average deviation in the original units, making it more intuitive.\n",
        "\n",
        " Q18. What is skewness in a dataset?\n",
        "\n",
        " ---> Skewness measures the asymmetry or lopsidedness of a dataset’s distribution around its mean.\n",
        "\n",
        "Explanation:\n",
        "If the data is symmetrical, skewness is close to 0.\n",
        "\n",
        "Positive skewness means the tail on the right side is longer or fatter (more values are concentrated on the left).\n",
        "\n",
        "Negative skewness means the tail on the left side is longer or fatter (more values are concentrated on the right).\n",
        "\n",
        "Q19. What does it mean if a dataset is positively or negatively skewed?\n",
        "\n",
        "--->If a dataset is:\n",
        "\n",
        "Positively skewed (right-skewed):\n",
        "The right tail (higher values) is longer or fatter.\n",
        "Most data values are concentrated on the left (lower values), with some unusually high values pulling the mean to the right.\n",
        "Example: Income distribution, where a few people earn very high amounts.\n",
        "\n",
        "Negatively skewed (left-skewed):\n",
        "The left tail (lower values) is longer or fatter.\n",
        "Most data values are concentrated on the right (higher values), with some unusually low values pulling the mean to the left.\n",
        "Example: Test scores where most students score high but a few have very low scores.\n",
        "\n",
        "Q20.  Define and explain kurtosis.\n",
        "\n",
        "--->Kurtosis is a statistical measure that describes the shape of the tails and the peakedness of a data distribution compared to a normal distribution.\n",
        "\n",
        "Explanation:\n",
        "It tells us whether the data have heavy tails or light tails.\n",
        "\n",
        "High kurtosis means more data in the tails and a sharper peak (more outliers).\n",
        "\n",
        "Low kurtosis means fewer data in the tails and a flatter peak.\n",
        "\n",
        "Types of kurtosis:\n",
        "Leptokurtic (kurtosis > 3): Sharper peak, heavy tails (more extreme values).\n",
        "\n",
        "Mesokurtic (kurtosis ≈ 3): Normal distribution shape.\n",
        "\n",
        "Platykurtic (kurtosis < 3): Flatter peak, light tails (fewer extreme values).\n",
        "\n",
        "Q21. What is the purpose of covariance?\n",
        "\n",
        "--->Covariance measures the relationship and direction between two variables—how they change together.\n",
        "\n",
        "Purpose:\n",
        "To determine whether two variables increase or decrease together (positive covariance).\n",
        "\n",
        "To see if one variable increases while the other decreases (negative covariance).\n",
        "\n",
        "To assess if there is no linear relationship (covariance close to zero).\n",
        "\n",
        "Q22. What does correlation measure in statistics?\n",
        "\n",
        "---> Correlation measures the strength and direction of the linear relationship between two variables.\n",
        "\n",
        "Key points:\n",
        "It shows how closely two variables move together.\n",
        "\n",
        "The value ranges from -1 to +1:\n",
        "\n",
        "+1 means perfect positive correlation (both increase together).\n",
        "\n",
        "-1 means perfect negative correlation (one increases, the other decreases).\n",
        "\n",
        "0 means no linear correlation.\n",
        "\n",
        "Q23. What is the difference between covariance and correlation?\n",
        "\n",
        "---> Covariance shows direction but is scale-dependent, while correlation standardizes covariance to show both strength and direction on a fixed scale.\n",
        "\n",
        "Q24. What are some real-world applications of statistics?\n",
        "\n",
        "--->Statistics is everywhere! Here are some real-world applications:\n",
        "\n",
        "Healthcare: Analyzing patient data to find disease trends, effectiveness of treatments, and risks.\n",
        "\n",
        "Business: Market research, customer behavior analysis, and quality control.\n",
        "\n",
        "Finance: Risk assessment, stock market analysis, and portfolio management.\n",
        "\n",
        "Government: Census data analysis, policy-making, and public health monitoring.\n",
        "\n",
        "Sports: Performance analysis, player statistics, and game strategy optimization.\n",
        "\n",
        "Education: Measuring student performance, testing, and curriculum evaluation.\n",
        "\n",
        "Manufacturing: Monitoring production quality and improving processes.\n",
        "\n",
        "Social Sciences: Studying human behavior, opinions, and social trends.\n",
        "\n",
        "Environmental Science: Tracking climate change, pollution levels, and natural resources.\n",
        "\n",
        "Technology: Data mining, machine learning, and AI development.\n",
        "\n",
        "\n",
        "#Practical Questions\n",
        "Q1. How do you calculate the mean, median, and mode of a dataset?\n",
        "\n",
        "\n",
        "\n",
        "\n",
        "\n",
        "\n",
        "\n"
      ],
      "metadata": {
        "id": "UYsPGSynrorE"
      }
    },
    {
      "cell_type": "code",
      "source": [
        "from statistics import mean, median, mode\n",
        "\n",
        "# Sample dataset\n",
        "data = [3, 5, 3, 8, 7]\n",
        "\n",
        "# Calculate mean\n",
        "mean_value = mean(data)\n",
        "\n",
        "# Calculate median\n",
        "median_value = median(data)\n",
        "\n",
        "# Calculate mode\n",
        "mode_value = mode(data)\n",
        "\n",
        "print(f\"Mean: {mean_value}\")\n",
        "print(f\"Median: {median_value}\")\n",
        "print(f\"Mode: {mode_value}\")\n"
      ],
      "metadata": {
        "colab": {
          "base_uri": "https://localhost:8080/"
        },
        "id": "bYirsZR_u3Ah",
        "outputId": "f0cbdc16-eeb8-424f-ab21-69c7d8205217"
      },
      "execution_count": 1,
      "outputs": [
        {
          "output_type": "stream",
          "name": "stdout",
          "text": [
            "Mean: 5.2\n",
            "Median: 5\n",
            "Mode: 3\n"
          ]
        }
      ]
    },
    {
      "cell_type": "markdown",
      "source": [
        "Q2. Write a Python program to compute the variance and standard deviation of a dataset.\n",
        "\n",
        "--->"
      ],
      "metadata": {
        "id": "7VFnEuGcu7B1"
      }
    },
    {
      "cell_type": "code",
      "source": [
        "import statistics\n",
        "\n",
        "# Sample dataset\n",
        "data = [3, 5, 3, 8, 7]\n",
        "\n",
        "# Calculate variance\n",
        "variance = statistics.variance(data)  # sample variance\n",
        "\n",
        "# Calculate standard deviation\n",
        "std_dev = statistics.stdev(data)      # sample standard deviation\n",
        "\n",
        "print(f\"Variance: {variance}\")\n",
        "print(f\"Standard Deviation: {std_dev}\")\n"
      ],
      "metadata": {
        "colab": {
          "base_uri": "https://localhost:8080/"
        },
        "id": "CD9Bv6N9vAMI",
        "outputId": "b1fc1e30-ad74-484a-d948-2482fd76c6d6"
      },
      "execution_count": 2,
      "outputs": [
        {
          "output_type": "stream",
          "name": "stdout",
          "text": [
            "Variance: 5.2\n",
            "Standard Deviation: 2.280350850198276\n"
          ]
        }
      ]
    },
    {
      "cell_type": "markdown",
      "source": [
        "Q3. Create a dataset and classify it into nominal, ordinal, interval, and ratio types.\n",
        "\n"
      ],
      "metadata": {
        "id": "SuJfPnKuvDo4"
      }
    },
    {
      "cell_type": "code",
      "source": [
        "dataset = {\n",
        "    \"Nominal\": [\"A\", \"B\", \"AB\", \"O\"],\n",
        "    \"Ordinal\": [\"Low\", \"Medium\", \"High\"],\n",
        "    \"Interval\": [10, 20, 30, 40],  # Celsius temperature\n",
        "    \"Ratio\": [5, 10, 15, 20]       # Age in years\n",
        "}\n",
        "\n",
        "print(dataset)\n"
      ],
      "metadata": {
        "colab": {
          "base_uri": "https://localhost:8080/"
        },
        "id": "_BTIA8C5vHei",
        "outputId": "20daf676-3ad0-4ebf-d8b9-e12c105d559a"
      },
      "execution_count": 3,
      "outputs": [
        {
          "output_type": "stream",
          "name": "stdout",
          "text": [
            "{'Nominal': ['A', 'B', 'AB', 'O'], 'Ordinal': ['Low', 'Medium', 'High'], 'Interval': [10, 20, 30, 40], 'Ratio': [5, 10, 15, 20]}\n"
          ]
        }
      ]
    },
    {
      "cell_type": "markdown",
      "source": [
        "Q4.  Implement sampling techniques like random sampling and stratified sampling.\n",
        "\n"
      ],
      "metadata": {
        "id": "qKdpkbsevKZH"
      }
    },
    {
      "cell_type": "code",
      "source": [
        "import random\n",
        "\n",
        "# Sample dataset\n",
        "data = list(range(1, 101))  # Numbers from 1 to 100\n",
        "\n",
        "# Randomly select 10 samples\n",
        "random_sample = random.sample(data, 10)\n",
        "\n",
        "print(\"Random Sample:\", random_sample)\n"
      ],
      "metadata": {
        "colab": {
          "base_uri": "https://localhost:8080/"
        },
        "id": "afamntObvN-z",
        "outputId": "75c63a3a-32bd-4254-8ec9-e14229cba34e"
      },
      "execution_count": 4,
      "outputs": [
        {
          "output_type": "stream",
          "name": "stdout",
          "text": [
            "Random Sample: [62, 46, 26, 38, 95, 68, 32, 21, 52, 94]\n"
          ]
        }
      ]
    },
    {
      "cell_type": "code",
      "source": [
        "from sklearn.model_selection import train_test_split\n",
        "\n",
        "# Sample dataset with labels (strata)\n",
        "data = list(range(1, 21))\n",
        "labels = ['A']*10 + ['B']*5 + ['C']*5  # Three strata: A, B, C\n",
        "\n",
        "# Stratified sample - splitting data so that label proportions are preserved\n",
        "train_sample, test_sample, train_labels, test_labels = train_test_split(\n",
        "    data, labels, test_size=0.3, stratify=labels, random_state=42\n",
        ")\n",
        "\n",
        "print(\"Stratified Sample (Test Data):\", test_sample)\n",
        "print(\"Stratified Sample Labels:\", test_labels)\n"
      ],
      "metadata": {
        "colab": {
          "base_uri": "https://localhost:8080/"
        },
        "id": "q3cyLxIYvTop",
        "outputId": "06c9500f-ebaf-413c-9b59-b46811046d5d"
      },
      "execution_count": 5,
      "outputs": [
        {
          "output_type": "stream",
          "name": "stdout",
          "text": [
            "Stratified Sample (Test Data): [5, 20, 4, 15, 14, 8]\n",
            "Stratified Sample Labels: ['A', 'C', 'A', 'B', 'B', 'A']\n"
          ]
        }
      ]
    },
    {
      "cell_type": "markdown",
      "source": [
        "Q5. Write a Python function to calculate the range of a dataset.\n"
      ],
      "metadata": {
        "id": "j2t1XHFrvWK1"
      }
    },
    {
      "cell_type": "code",
      "source": [
        "def calculate_range(data):\n",
        "    if not data:\n",
        "        return None  # Handle empty dataset\n",
        "    return max(data) - min(data)\n",
        "\n",
        "# Example usage\n",
        "dataset = [3, 5, 7, 2, 8]\n",
        "range_value = calculate_range(dataset)\n",
        "print(\"Range:\", range_value)\n"
      ],
      "metadata": {
        "colab": {
          "base_uri": "https://localhost:8080/"
        },
        "id": "3jvW-xlPvbyh",
        "outputId": "57598e9a-a7b5-4ec8-c5e7-2169ecbd4913"
      },
      "execution_count": 6,
      "outputs": [
        {
          "output_type": "stream",
          "name": "stdout",
          "text": [
            "Range: 6\n"
          ]
        }
      ]
    },
    {
      "cell_type": "markdown",
      "source": [
        "Q6. Create a dataset and plot its histogram to visualize skewness."
      ],
      "metadata": {
        "id": "vSp7L2BcveCL"
      }
    },
    {
      "cell_type": "code",
      "source": [
        "import numpy as np\n",
        "import matplotlib.pyplot as plt\n",
        "from scipy.stats import skew\n",
        "\n",
        "# Create a positively skewed dataset using exponential distribution\n",
        "data = np.random.exponential(scale=2, size=1000)\n",
        "\n",
        "# Calculate skewness\n",
        "data_skewness = skew(data)\n",
        "\n",
        "# Plot histogram\n",
        "plt.hist(data, bins=30, color='skyblue', edgecolor='black')\n",
        "plt.title(f\"Histogram (Skewness = {data_skewness:.2f})\")\n",
        "plt.xlabel('Value')\n",
        "plt.ylabel('Frequency')\n",
        "plt.show()\n"
      ],
      "metadata": {
        "colab": {
          "base_uri": "https://localhost:8080/",
          "height": 472
        },
        "id": "bJ8dbnKgvhzr",
        "outputId": "21aa738d-d249-4327-f88f-455e61ed7dca"
      },
      "execution_count": 7,
      "outputs": [
        {
          "output_type": "display_data",
          "data": {
            "text/plain": [
              "<Figure size 640x480 with 1 Axes>"
            ],
            "image/png": "[encoded data removed]"
          },
          "metadata": {}
        }
      ]
    },
    {
      "cell_type": "markdown",
      "source": [
        "Q7. Calculate skewness and kurtosis of a dataset using Python libraries.\n",
        "\n"
      ],
      "metadata": {
        "id": "K6qZCnkZvkn0"
      }
    },
    {
      "cell_type": "code",
      "source": [
        "import numpy as np\n",
        "from scipy.stats import skew, kurtosis\n",
        "\n",
        "# Sample dataset\n",
        "data = np.array([3, 5, 7, 2, 8, 9, 4, 5, 6, 7])\n",
        "\n",
        "# Calculate skewness\n",
        "data_skewness = skew(data)\n",
        "\n",
        "# Calculate kurtosis\n",
        "data_kurtosis = kurtosis(data)  # By default, Fisher’s definition (subtracts 3)\n",
        "\n",
        "print(f\"Skewness: {data_skewness}\")\n",
        "print(f\"Kurtosis: {data_kurtosis}\")\n"
      ],
      "metadata": {
        "colab": {
          "base_uri": "https://localhost:8080/"
        },
        "id": "roiVWep9vpLk",
        "outputId": "04ee92cc-7c6c-4dad-9a37-464977ecd7b7"
      },
      "execution_count": 8,
      "outputs": [
        {
          "output_type": "stream",
          "name": "stdout",
          "text": [
            "Skewness: -0.10774225897731025\n",
            "Kurtosis: -0.9963476990504025\n"
          ]
        }
      ]
    },
    {
      "cell_type": "markdown",
      "source": [
        "Q8. Generate a dataset and demonstrate positive and negative skewness.\n",
        "\n"
      ],
      "metadata": {
        "id": "tg2Ori33vr9K"
      }
    },
    {
      "cell_type": "code",
      "source": [
        "import numpy as np\n",
        "import matplotlib.pyplot as plt\n",
        "from scipy.stats import skew\n",
        "\n",
        "# Generate positively skewed data (exponential)\n",
        "pos_skewed_data = np.random.exponential(scale=2, size=1000)\n",
        "\n",
        "# Generate negatively skewed data by flipping positive skewed data\n",
        "neg_skewed_data = -pos_skewed_data\n",
        "\n",
        "# Calculate skewness\n",
        "pos_skewness = skew(pos_skewed_data)\n",
        "neg_skewness = skew(neg_skewed_data)\n",
        "\n",
        "# Plot histograms\n",
        "fig, axs = plt.subplots(1, 2, figsize=(12, 5))\n",
        "\n",
        "axs[0].hist(pos_skewed_data, bins=30, color='orange', edgecolor='black')\n",
        "axs[0].set_title(f'Positive Skewness: {pos_skewness:.2f}')\n",
        "axs[0].set_xlabel('Value')\n",
        "axs[0].set_ylabel('Frequency')\n",
        "\n",
        "axs[1].hist(neg_skewed_data, bins=30, color='blue', edgecolor='black')\n",
        "axs[1].set_title(f'Negative Skewness: {neg_skewness:.2f}')\n",
        "axs[1].set_xlabel('Value')\n",
        "axs[1].set_ylabel('Frequency')\n",
        "\n",
        "plt.tight_layout()\n",
        "plt.show()\n"
      ],
      "metadata": {
        "colab": {
          "base_uri": "https://localhost:8080/",
          "height": 494
        },
        "id": "AV6UF-nyvvuA",
        "outputId": "32d4cbe3-d855-4c8f-dee4-e7029ca429a4"
      },
      "execution_count": 9,
      "outputs": [
        {
          "output_type": "display_data",
          "data": {
            "text/plain": [
              "<Figure size 1200x500 with 2 Axes>"
            ],
            "image/png": "[encoded data removed]"
          },
          "metadata": {}
        }
      ]
    },
    {
      "cell_type": "markdown",
      "source": [
        "Q9. Write a Python script to calculate covariance between two datasets.\n",
        "\n"
      ],
      "metadata": {
        "id": "j3qAtRpOv0zR"
      }
    },
    {
      "cell_type": "code",
      "source": [
        "import numpy as np\n",
        "\n",
        "# Sample datasets\n",
        "x = [2, 4, 6, 8, 10]\n",
        "y = [1, 3, 5, 7, 9]\n",
        "\n",
        "# Using NumPy\n",
        "cov_matrix = np.cov(x, y, bias=True)  # bias=True for population covariance\n",
        "cov_xy = cov_matrix[0, 1]\n",
        "\n",
        "print(f\"Covariance (using NumPy): {cov_xy}\")\n",
        "\n",
        "# Manual calculation\n",
        "def covariance(x, y):\n",
        "    n = len(x)\n",
        "    mean_x = sum(x) / n\n",
        "    mean_y = sum(y) / n\n",
        "    cov = sum((xi - mean_x) * (yi - mean_y) for xi, yi in zip(x, y)) / n\n",
        "    return cov\n",
        "\n",
        "cov_manual = covariance(x, y)\n",
        "print(f\"Covariance (manual calculation): {cov_manual}\")\n"
      ],
      "metadata": {
        "colab": {
          "base_uri": "https://localhost:8080/"
        },
        "id": "35kzjNfbv5ve",
        "outputId": "72cb1fec-f6af-4158-9441-56b8e67fa3f8"
      },
      "execution_count": 10,
      "outputs": [
        {
          "output_type": "stream",
          "name": "stdout",
          "text": [
            "Covariance (using NumPy): 8.0\n",
            "Covariance (manual calculation): 8.0\n"
          ]
        }
      ]
    },
    {
      "cell_type": "markdown",
      "source": [
        "Q10. Write a Python script to calculate the correlation coefficient between two datasets.\n",
        "\n"
      ],
      "metadata": {
        "id": "hOMWyb6Zv6ek"
      }
    },
    {
      "cell_type": "code",
      "source": [
        "import numpy as np\n",
        "\n",
        "# Sample datasets\n",
        "x = [2, 4, 6, 8, 10]\n",
        "y = [1, 3, 5, 7, 9]\n",
        "\n",
        "# Using NumPy\n",
        "corr_matrix = np.corrcoef(x, y)\n",
        "corr_xy = corr_matrix[0, 1]\n",
        "print(f\"Correlation coefficient (using NumPy): {corr_xy}\")\n",
        "\n",
        "# Manual calculation\n",
        "def correlation_coefficient(x, y):\n",
        "    n = len(x)\n",
        "    mean_x = sum(x) / n\n",
        "    mean_y = sum(y) / n\n",
        "\n",
        "    cov = sum((xi - mean_x) * (yi - mean_y) for xi, yi in zip(x, y))\n",
        "    std_x = (sum((xi - mean_x) ** 2 for xi in x)) ** 0.5\n",
        "    std_y = (sum((yi - mean_y) ** 2 for yi in y)) ** 0.5\n",
        "\n",
        "    corr = cov / (std_x * std_y)\n",
        "    return corr / (n - 1)  # dividing by (n-1) to normalize covariance\n",
        "\n",
        "corr_manual = correlation_coefficient(x, y)\n",
        "print(f\"Correlation coefficient (manual calculation): {corr_manual}\")\n"
      ],
      "metadata": {
        "colab": {
          "base_uri": "https://localhost:8080/"
        },
        "id": "OKgWv6kNv-Sw",
        "outputId": "6c9b0f94-67c3-4bc4-b939-039ae26906ac"
      },
      "execution_count": 11,
      "outputs": [
        {
          "output_type": "stream",
          "name": "stdout",
          "text": [
            "Correlation coefficient (using NumPy): 0.9999999999999999\n",
            "Correlation coefficient (manual calculation): 0.24999999999999994\n"
          ]
        }
      ]
    },
    {
      "cell_type": "markdown",
      "source": [
        "Q11. Create a scatter plot to visualize the relationship between two variables.\n",
        "\n"
      ],
      "metadata": {
        "id": "wLErGoQ-wCL9"
      }
    },
    {
      "cell_type": "code",
      "source": [
        "import matplotlib.pyplot as plt\n",
        "\n",
        "# Sample data\n",
        "x = [2, 4, 6, 8, 10]\n",
        "y = [1, 3, 5, 7, 9]\n",
        "\n",
        "# Create scatter plot\n",
        "plt.scatter(x, y, color='blue')\n",
        "\n",
        "# Add title and labels\n",
        "plt.title('Scatter Plot of X vs Y')\n",
        "plt.xlabel('X values')\n",
        "plt.ylabel('Y values')\n",
        "\n",
        "# Show plot\n",
        "plt.show()\n"
      ],
      "metadata": {
        "colab": {
          "base_uri": "https://localhost:8080/",
          "height": 472
        },
        "id": "awny63-YwKQ5",
        "outputId": "c9b28172-3f06-4aeb-aa0a-7ef16e640798"
      },
      "execution_count": 12,
      "outputs": [
        {
          "output_type": "display_data",
          "data": {
            "text/plain": [
              "<Figure size 640x480 with 1 Axes>"
            ],
            "image/png": "[encoded data removed]"
          },
          "metadata": {}
        }
      ]
    },
    {
      "cell_type": "markdown",
      "source": [
        "Q12. Implement and compare simple random sampling and systematic sampling.\n",
        "\n"
      ],
      "metadata": {
        "id": "J1X1MGKlwMMo"
      }
    },
    {
      "cell_type": "code",
      "source": [
        "import random\n",
        "\n",
        "# Sample dataset (e.g., 30 items)\n",
        "data = list(range(1, 31))\n",
        "\n",
        "# Simple Random Sampling: randomly select 5 items\n",
        "def simple_random_sampling(data, sample_size):\n",
        "    return random.sample(data, sample_size)\n",
        "\n",
        "# Systematic Sampling: select every k-th item\n",
        "def systematic_sampling(data, sample_size):\n",
        "    n = len(data)\n",
        "    k = n // sample_size  # sampling interval\n",
        "    start = random.randint(0, k-1)  # random start within first interval\n",
        "    return [data[i] for i in range(start, n, k)]\n",
        "\n",
        "# Parameters\n",
        "sample_size = 5\n",
        "\n",
        "# Get samples\n",
        "random_sample = simple_random_sampling(data, sample_size)\n",
        "systematic_sample = systematic_sampling(data, sample_size)\n",
        "\n",
        "print(\"Original data:\", data)\n",
        "print(\"Simple Random Sample:\", random_sample)\n",
        "print(\"Systematic Sample:\", systematic_sample)\n"
      ],
      "metadata": {
        "colab": {
          "base_uri": "https://localhost:8080/"
        },
        "id": "qvfCr_PPwQpi",
        "outputId": "003d92d1-66f7-4073-88fa-bb14aafa033b"
      },
      "execution_count": 13,
      "outputs": [
        {
          "output_type": "stream",
          "name": "stdout",
          "text": [
            "Original data: [1, 2, 3, 4, 5, 6, 7, 8, 9, 10, 11, 12, 13, 14, 15, 16, 17, 18, 19, 20, 21, 22, 23, 24, 25, 26, 27, 28, 29, 30]\n",
            "Simple Random Sample: [19, 10, 5, 4, 12]\n",
            "Systematic Sample: [3, 9, 15, 21, 27]\n"
          ]
        }
      ]
    },
    {
      "cell_type": "markdown",
      "source": [
        "Q13. Calculate the mean, median, and mode of grouped data.\n",
        "\n"
      ],
      "metadata": {
        "id": "DNwV2ziCwT9j"
      }
    },
    {
      "cell_type": "code",
      "source": [
        "# Grouped data: class intervals and frequencies\n",
        "class_intervals = [(10, 20), (20, 30), (30, 40), (40, 50), (50, 60)]\n",
        "frequencies = [5, 8, 15, 10, 7]\n",
        "\n",
        "# Calculate midpoints\n",
        "midpoints = [(low + high) / 2 for low, high in class_intervals]\n",
        "\n",
        "# Total frequency\n",
        "n = sum(frequencies)\n",
        "\n",
        "# 1. Mean\n",
        "mean = sum(m * f for m, f in zip(midpoints, frequencies)) / n\n",
        "\n",
        "# 2. Median\n",
        "# Find cumulative frequency\n",
        "cum_freq = []\n",
        "cumulative = 0\n",
        "for f in frequencies:\n",
        "    cumulative += f\n",
        "    cum_freq.append(cumulative)\n",
        "\n",
        "# Median class: first class where cumulative frequency >= n/2\n",
        "median_class_index = next(i for i, cf in enumerate(cum_freq) if cf >= n/2)\n",
        "\n",
        "L, F, f = class_intervals[median_class_index][0], frequencies[median_class_index], frequencies[median_class_index - 1] if median_class_index > 0 else 0\n",
        "CF = cum_freq[median_class_index - 1] if median_class_index > 0 else 0\n",
        "h = class_intervals[median_class_index][1] - class_intervals[median_class_index][0]\n",
        "\n",
        "median = L + ((n/2 - CF) / F) * h\n",
        "\n",
        "# 3. Mode\n",
        "# Modal class: class with highest frequency\n",
        "modal_class_index = frequencies.index(max(frequencies))\n",
        "\n",
        "L_m, f_m = class_intervals[modal_class_index][0], frequencies[modal_class_index]\n",
        "f_1 = frequencies[modal_class_index - 1] if modal_class_index > 0 else 0\n",
        "f_2 = frequencies[modal_class_index + 1] if modal_class_index < len(frequencies) - 1 else 0\n",
        "h_m = class_intervals[modal_class_index][1] - class_intervals[modal_class_index][0]\n",
        "\n",
        "mode = L_m + ((f_m - f_1) / ((2 * f_m) - f_1 - f_2)) * h_m\n",
        "\n",
        "# Output results\n",
        "print(f\"Mean: {mean:.2f}\")\n",
        "print(f\"Median: {median:.2f}\")\n",
        "print(f\"Mode: {mode:.2f}\")\n"
      ],
      "metadata": {
        "colab": {
          "base_uri": "https://localhost:8080/"
        },
        "id": "iqk0tXErwZCQ",
        "outputId": "3cffca1b-6478-4a8f-f2c3-81f97dfc066d"
      },
      "execution_count": 14,
      "outputs": [
        {
          "output_type": "stream",
          "name": "stdout",
          "text": [
            "Mean: 36.33\n",
            "Median: 36.33\n",
            "Mode: 35.83\n"
          ]
        }
      ]
    },
    {
      "cell_type": "markdown",
      "source": [
        "Q14.  Simulate data using Python and calculate its central tendency and dispersion.\n",
        "\n"
      ],
      "metadata": {
        "id": "xCNHXehywg0l"
      }
    },
    {
      "cell_type": "code",
      "source": [
        "import numpy as np\n",
        "from scipy import stats\n",
        "\n",
        "# Simulate data: 1000 data points from a normal distribution\n",
        "data = np.random.normal(loc=50, scale=10, size=1000)\n",
        "\n",
        "# Calculate central tendency\n",
        "mean = np.mean(data)\n",
        "median = np.median(data)\n",
        "mode = stats.mode(data, keepdims=True).mode[0]  # mode might not be meaningful for continuous data\n",
        "\n",
        "# Calculate dispersion\n",
        "variance = np.var(data)       # population variance\n",
        "std_dev = np.std(data)        # population standard deviation\n",
        "data_range = np.ptp(data)     # peak to peak (max - min)\n",
        "\n",
        "print(f\"Mean: {mean:.2f}\")\n",
        "print(f\"Median: {median:.2f}\")\n",
        "print(f\"Mode: {mode:.2f}\")\n",
        "print(f\"Variance: {variance:.2f}\")\n",
        "print(f\"Standard Deviation: {std_dev:.2f}\")\n",
        "print(f\"Range: {data_range:.2f}\")\n"
      ],
      "metadata": {
        "colab": {
          "base_uri": "https://localhost:8080/"
        },
        "id": "wKPW5utmwnup",
        "outputId": "0440d786-9d4d-4737-c6aa-b6ce94f58fc3"
      },
      "execution_count": 15,
      "outputs": [
        {
          "output_type": "stream",
          "name": "stdout",
          "text": [
            "Mean: 49.84\n",
            "Median: 49.69\n",
            "Mode: 20.92\n",
            "Variance: 107.08\n",
            "Standard Deviation: 10.35\n",
            "Range: 57.98\n"
          ]
        }
      ]
    },
    {
      "cell_type": "markdown",
      "source": [
        "Q15. Use NumPy or pandas to summarize a dataset’s descriptive statistics.\n",
        "\n"
      ],
      "metadata": {
        "id": "C_WjFWimwrFN"
      }
    },
    {
      "cell_type": "code",
      "source": [
        "import numpy as np\n",
        "\n",
        "# Sample dataset\n",
        "data = np.array([12, 15, 14, 10, 18, 20, 15, 17, 14, 16])\n",
        "\n",
        "print(\"Mean:\", np.mean(data))\n",
        "print(\"Median:\", np.median(data))\n",
        "print(\"Variance:\", np.var(data))\n",
        "print(\"Standard Deviation:\", np.std(data))\n",
        "print(\"Minimum:\", np.min(data))\n"
      ],
      "metadata": {
        "colab": {
          "base_uri": "https://localhost:8080/"
        },
        "id": "0SNCAbLbwwlT",
        "outputId": "883b4076-303e-4d98-e80d-7321c1285866"
      },
      "execution_count": 16,
      "outputs": [
        {
          "output_type": "stream",
          "name": "stdout",
          "text": [
            "Mean: 15.1\n",
            "Median: 15.0\n",
            "Variance: 7.489999999999999\n",
            "Standard Deviation: 2.7367864366808017\n",
            "Minimum: 10\n"
          ]
        }
      ]
    },
    {
      "cell_type": "code",
      "source": [
        "import numpy as np\n",
        "\n",
        "# Sample dataset\n",
        "data = np.array([12, 15, 14, 10, 18, 20, 15, 17, 14, 16])\n",
        "\n",
        "print(\"Mean:\", np.mean(data))\n",
        "print(\"Median:\", np.median(data))\n",
        "print(\"Variance:\", np.var(data))\n",
        "print(\"Standard Deviation:\", np.std(data))\n",
        "print(\"Minimum:\", np.min(data))\n",
        "print(\"Maximum:\", np.max(data))\n",
        "print(\"25th Percentile:\", np.percentile(data, 25))\n",
        "print(\"75th Percentile:\", np.percentile(data, 75))\n"
      ],
      "metadata": {
        "colab": {
          "base_uri": "https://localhost:8080/"
        },
        "id": "6fs7RFvBwxl2",
        "outputId": "182aa499-e8f9-44d9-80af-5cd139f3f590"
      },
      "execution_count": 17,
      "outputs": [
        {
          "output_type": "stream",
          "name": "stdout",
          "text": [
            "Mean: 15.1\n",
            "Median: 15.0\n",
            "Variance: 7.489999999999999\n",
            "Standard Deviation: 2.7367864366808017\n",
            "Minimum: 10\n",
            "Maximum: 20\n",
            "25th Percentile: 14.0\n",
            "75th Percentile: 16.75\n"
          ]
        }
      ]
    },
    {
      "cell_type": "markdown",
      "source": [
        "Q16.  Plot a boxplot to understand the spread and identify outliers.\n",
        "\n"
      ],
      "metadata": {
        "id": "kvfpbRI8w0X-"
      }
    },
    {
      "cell_type": "code",
      "source": [
        "import matplotlib.pyplot as plt\n",
        "import seaborn as sns\n",
        "import numpy as np\n",
        "\n",
        "# Sample data with some outliers\n",
        "data = np.array([12, 15, 14, 10, 18, 20, 15, 17, 14, 16, 35, 40])\n",
        "\n",
        "# Using matplotlib\n",
        "plt.boxplot(data)\n",
        "plt.title(\"Boxplot using Matplotlib\")\n",
        "plt.ylabel(\"Values\")\n",
        "plt.show()\n",
        "\n",
        "# Using seaborn (better style)\n",
        "sns.boxplot(data=data)\n",
        "plt.title(\"Boxplot using Seaborn\")\n",
        "plt.show()\n"
      ],
      "metadata": {
        "colab": {
          "base_uri": "https://localhost:8080/",
          "height": 868
        },
        "id": "KofrN-F6w4NL",
        "outputId": "a312ca19-90ed-4230-b13e-706c45b4129e"
      },
      "execution_count": 18,
      "outputs": [
        {
          "output_type": "display_data",
          "data": {
            "text/plain": [
              "<Figure size 640x480 with 1 Axes>"
            ],
            "image/png": "[encoded data removed]"
          },
          "metadata": {}
        },
        {
          "output_type": "display_data",
          "data": {
            "text/plain": [
              "<Figure size 640x480 with 1 Axes>"
            ],
            "image/png": "[encoded data removed]"
          },
          "metadata": {}
        }
      ]
    },
    {
      "cell_type": "markdown",
      "source": [
        "Q17.  Calculate the interquartile range (IQR) of a dataset.\n",
        "\n"
      ],
      "metadata": {
        "id": "87H5fbjJw8oK"
      }
    },
    {
      "cell_type": "code",
      "source": [
        "import numpy as np\n",
        "\n",
        "# Sample dataset\n",
        "data = [12, 15, 14, 10, 18, 20, 15, 17, 14, 16]\n",
        "\n",
        "# Calculate Q1 (25th percentile) and Q3 (75th percentile)\n",
        "Q1 = np.percentile(data, 25)\n",
        "Q3 = np.percentile(data, 75)\n",
        "\n",
        "# Calculate IQR\n",
        "IQR = Q3 - Q1\n",
        "\n",
        "print(f\"Q1 (25th percentile): {Q1}\")\n",
        "print(f\"Q3 (75th percentile): {Q3}\")\n",
        "print(f\"Interquartile Range (IQR): {IQR}\")\n"
      ],
      "metadata": {
        "colab": {
          "base_uri": "https://localhost:8080/"
        },
        "id": "3K9bHFmjxAC8",
        "outputId": "5e56018b-0dc8-49bb-9ef6-a6149fb6625c"
      },
      "execution_count": 19,
      "outputs": [
        {
          "output_type": "stream",
          "name": "stdout",
          "text": [
            "Q1 (25th percentile): 14.0\n",
            "Q3 (75th percentile): 16.75\n",
            "Interquartile Range (IQR): 2.75\n"
          ]
        }
      ]
    },
    {
      "cell_type": "markdown",
      "source": [
        "Q18. Implement Z-score normalization and explain its significance.\n",
        "\n"
      ],
      "metadata": {
        "id": "IHM1N-L5xFZk"
      }
    },
    {
      "cell_type": "code",
      "source": [
        "import numpy as np\n",
        "\n",
        "# Sample data\n",
        "data = np.array([10, 15, 20, 25, 30])\n",
        "\n",
        "# Calculate mean and std deviation\n",
        "mean = np.mean(data)\n",
        "std = np.std(data)\n",
        "\n",
        "# Apply Z-score normalization\n",
        "z_scores = (data - mean) / std\n",
        "\n",
        "print(\"Original data:\", data)\n",
        "print(\"Z-score normalized data:\", z_scores)\n"
      ],
      "metadata": {
        "colab": {
          "base_uri": "https://localhost:8080/"
        },
        "id": "qFEf1MSyxNeh",
        "outputId": "520c34d1-2738-4d1f-8492-0973b3303098"
      },
      "execution_count": 20,
      "outputs": [
        {
          "output_type": "stream",
          "name": "stdout",
          "text": [
            "Original data: [10 15 20 25 30]\n",
            "Z-score normalized data: [-1.41421356 -0.70710678  0.          0.70710678  1.41421356]\n"
          ]
        }
      ]
    },
    {
      "cell_type": "markdown",
      "source": [
        "Q19. Compare two datasets using their standard deviations.\n",
        "\n"
      ],
      "metadata": {
        "id": "47j2u758xSqC"
      }
    },
    {
      "cell_type": "code",
      "source": [
        "import numpy as np\n",
        "\n",
        "# Two sample datasets\n",
        "data1 = [10, 12, 14, 16, 18]\n",
        "data2 = [8, 15, 20, 25, 30]\n",
        "\n",
        "std1 = np.std(data1)\n",
        "std2 = np.std(data2)\n",
        "\n",
        "print(f\"Standard Deviation of dataset 1: {std1:.2f}\")\n",
        "print(f\"Standard Deviation of dataset 2: {std2:.2f}\")\n",
        "\n",
        "if std1 > std2:\n",
        "    print(\"Dataset 1 has greater variability.\")\n",
        "elif std1 < std2:\n",
        "    print(\"Dataset 2 has greater variability.\")\n",
        "else:\n",
        "    print(\"Both datasets have equal variability.\")\n"
      ],
      "metadata": {
        "colab": {
          "base_uri": "https://localhost:8080/"
        },
        "id": "KlVoSQhyxX2Y",
        "outputId": "b2ccde48-2d56-4bb6-b9aa-edbb06040358"
      },
      "execution_count": 21,
      "outputs": [
        {
          "output_type": "stream",
          "name": "stdout",
          "text": [
            "Standard Deviation of dataset 1: 2.83\n",
            "Standard Deviation of dataset 2: 7.66\n",
            "Dataset 2 has greater variability.\n"
          ]
        }
      ]
    },
    {
      "cell_type": "markdown",
      "source": [
        "Q20. Write a Python program to visualize covariance using a heatmap.\n",
        "\n"
      ],
      "metadata": {
        "id": "8i_bXBG1xZ2N"
      }
    },
    {
      "cell_type": "code",
      "source": [
        "import numpy as np\n",
        "import seaborn as sns\n",
        "import matplotlib.pyplot as plt\n",
        "\n",
        "# Sample dataset with 3 variables\n",
        "data = np.array([\n",
        "    [2.1, 8.5, 1.2],\n",
        "    [2.5, 7.8, 1.8],\n",
        "    [3.6, 8.9, 2.5],\n",
        "    [4.0, 9.1, 2.9],\n",
        "    [3.9, 9.7, 3.0]\n",
        "])\n",
        "\n",
        "# Calculate covariance matrix\n",
        "cov_matrix = np.cov(data, rowvar=False)\n",
        "\n",
        "# Plot heatmap\n",
        "sns.heatmap(cov_matrix, annot=True, cmap='coolwarm', xticklabels=['Var1', 'Var2', 'Var3'], yticklabels=['Var1', 'Var2', 'Var3'])\n",
        "plt.title(\"Covariance Matrix Heatmap\")\n",
        "plt.show()\n"
      ],
      "metadata": {
        "colab": {
          "base_uri": "https://localhost:8080/",
          "height": 452
        },
        "id": "OwaziOl3xekT",
        "outputId": "29134c3a-7408-4db2-d9d3-06d51bb2943c"
      },
      "execution_count": 22,
      "outputs": [
        {
          "output_type": "display_data",
          "data": {
            "text/plain": [
              "<Figure size 640x480 with 2 Axes>"
            ],
            "image/png": "[encoded data removed]"
          },
          "metadata": {}
        }
      ]
    },
    {
      "cell_type": "markdown",
      "source": [
        "Q21. Use seaborn to create a correlation matrix for a dataset.\n",
        "\n"
      ],
      "metadata": {
        "id": "8Y7n8ojexhnB"
      }
    },
    {
      "cell_type": "code",
      "source": [
        "import pandas as pd\n",
        "import seaborn as sns\n",
        "import matplotlib.pyplot as plt\n",
        "\n",
        "# Sample dataset\n",
        "data = {\n",
        "    'Height': [170, 165, 180, 175, 160],\n",
        "    'Weight': [70, 60, 80, 75, 55],\n",
        "    'Age': [30, 25, 40, 35, 22],\n",
        "    'Salary': [50000, 48000, 60000, 55000, 45000]\n",
        "}\n",
        "\n",
        "df = pd.DataFrame(data)\n",
        "\n",
        "# Calculate correlation matrix\n",
        "corr_matrix = df.corr()\n",
        "\n",
        "# Plot heatmap\n",
        "sns.heatmap(corr_matrix, annot=True, cmap='coolwarm')\n",
        "plt.title('Correlation Matrix Heatmap')\n",
        "plt.show()\n"
      ],
      "metadata": {
        "colab": {
          "base_uri": "https://localhost:8080/",
          "height": 452
        },
        "id": "tX0VWcx4xlks",
        "outputId": "1b12dd75-76dd-4637-e3c4-b970866acf63"
      },
      "execution_count": 23,
      "outputs": [
        {
          "output_type": "display_data",
          "data": {
            "text/plain": [
              "<Figure size 640x480 with 2 Axes>"
            ],
            "image/png": "[encoded data removed]"
          },
          "metadata": {}
        }
      ]
    },
    {
      "cell_type": "markdown",
      "source": [
        "Q22. Generate a dataset and implement both variance and standard deviation computations.\n",
        "\n"
      ],
      "metadata": {
        "id": "-XmxWIr3xpT_"
      }
    },
    {
      "cell_type": "code",
      "source": [
        "import numpy as np\n",
        "\n",
        "# Generate a dataset of 15 random integers between 10 and 50\n",
        "data = np.random.randint(10, 51, size=15)\n",
        "print(\"Dataset:\", data)\n",
        "\n",
        "# Manual calculation of variance and standard deviation\n",
        "mean = np.mean(data)\n",
        "squared_diffs = (data - mean) ** 2\n",
        "variance_manual = np.mean(squared_diffs)\n",
        "std_dev_manual = np.sqrt(variance_manual)\n",
        "\n",
        "# Using NumPy built-in functions\n",
        "variance_np = np.var(data)\n",
        "std_dev_np = np.std(data)\n",
        "\n",
        "print(f\"Variance (manual): {variance_manual:.2f}\")\n",
        "print(f\"Standard Deviation (manual): {std_dev_manual:.2f}\")\n",
        "print(f\"Variance (NumPy): {variance_np:.2f}\")\n",
        "print(f\"Standard Deviation (NumPy): {std_dev_np:.2f}\")\n"
      ],
      "metadata": {
        "colab": {
          "base_uri": "https://localhost:8080/"
        },
        "id": "nob-AtjaxtTJ",
        "outputId": "93d4ea7f-f14d-4553-8bfe-7da0b2a72223"
      },
      "execution_count": 24,
      "outputs": [
        {
          "output_type": "stream",
          "name": "stdout",
          "text": [
            "Dataset: [37 31 38 20 36 35 15 18 21 41 21 23 26 44 22]\n",
            "Variance (manual): 81.32\n",
            "Standard Deviation (manual): 9.02\n",
            "Variance (NumPy): 81.32\n",
            "Standard Deviation (NumPy): 9.02\n"
          ]
        }
      ]
    },
    {
      "cell_type": "markdown",
      "source": [
        "Q23. Visualize skewness and kurtosis using Python libraries like matplotlib or seaborn.\n",
        "\n"
      ],
      "metadata": {
        "id": "-2qgC9TWxxrG"
      }
    },
    {
      "cell_type": "code",
      "source": [
        "import numpy as np\n",
        "import seaborn as sns\n",
        "import matplotlib.pyplot as plt\n",
        "from scipy.stats import skew, kurtosis\n",
        "\n",
        "# Generate a dataset with positive skew (exponential distribution)\n",
        "data_pos_skew = np.random.exponential(scale=2, size=1000)\n",
        "\n",
        "# Generate a dataset with negative skew (by flipping the exponential)\n",
        "data_neg_skew = -np.random.exponential(scale=2, size=1000)\n",
        "\n",
        "# Function to plot distribution and print skewness & kurtosis\n",
        "def plot_dist(data, title):\n",
        "    plt.figure(figsize=(8,5))\n",
        "    sns.histplot(data, kde=True, bins=30, color='skyblue')\n",
        "    plt.title(title)\n",
        "\n",
        "    skewness = skew(data)\n",
        "    kurt = kurtosis(data)  # Fisher’s definition (normal dist = 0)\n",
        "\n",
        "    print(f\"{title}\")\n",
        "    print(f\"Skewness: {skewness:.2f}\")\n",
        "    print(f\"Kurtosis: {kurt:.2f}\")\n",
        "    plt.show()\n",
        "\n",
        "# Plot positive skewed data\n",
        "plot_dist(data_pos_skew, \"Positively Skewed Distribution\")\n",
        "\n",
        "# Plot negative skewed data\n",
        "plot_dist(data_neg_skew, \"Negatively Skewed Distribution\")\n"
      ],
      "metadata": {
        "colab": {
          "base_uri": "https://localhost:8080/",
          "height": 1000
        },
        "id": "TgsNrvGbx6dw",
        "outputId": "e9e0e611-1b3c-48db-8786-80c652b22728"
      },
      "execution_count": 25,
      "outputs": [
        {
          "output_type": "stream",
          "name": "stdout",
          "text": [
            "Positively Skewed Distribution\n",
            "Skewness: 1.58\n",
            "Kurtosis: 2.78\n"
          ]
        },
        {
          "output_type": "display_data",
          "data": {
            "text/plain": [
              "<Figure size 800x500 with 1 Axes>"
            ],
            "image/png": "[encoded data removed]"
          },
          "metadata": {}
        },
        {
          "output_type": "stream",
          "name": "stdout",
          "text": [
            "Negatively Skewed Distribution\n",
            "Skewness: -1.71\n",
            "Kurtosis: 3.78\n"
          ]
        },
        {
          "output_type": "display_data",
          "data": {
            "text/plain": [
              "<Figure size 800x500 with 1 Axes>"
            ],
            "image/png": "[encoded data removed]"
          },
          "metadata": {}
        }
      ]
    },
    {
      "cell_type": "markdown",
      "source": [
        "Q24.  Implement the Pearson and Spearman correlation coefficients for a dataset.\n",
        "\n"
      ],
      "metadata": {
        "id": "gT9FLuLDx7aM"
      }
    },
    {
      "cell_type": "code",
      "source": [
        "import numpy as np\n",
        "from scipy.stats import pearsonr, spearmanr\n",
        "\n",
        "# Sample datasets\n",
        "x = np.array([10, 20, 30, 40, 50])\n",
        "y = np.array([12, 24, 31, 38, 52])\n",
        "\n",
        "# Calculate Pearson correlation coefficient and p-value\n",
        "pearson_corr, pearson_p = pearsonr(x, y)\n",
        "\n",
        "# Calculate Spearman correlation coefficient and p-value\n",
        "spearman_corr, spearman_p = spearmanr(x, y)\n",
        "\n",
        "print(f\"Pearson correlation coefficient: {pearson_corr:.3f}, p-value: {pearson_p:.3f}\")\n",
        "print(f\"Spearman correlation coefficient: {spearman_corr:.3f}, p-value: {spearman_p:.3f}\")\n"
      ],
      "metadata": {
        "colab": {
          "base_uri": "https://localhost:8080/"
        },
        "id": "HJi2ycy5x_bY",
        "outputId": "0ebe1e94-a57b-4815-82d8-a0ee8c1c6b00"
      },
      "execution_count": 26,
      "outputs": [
        {
          "output_type": "stream",
          "name": "stdout",
          "text": [
            "Pearson correlation coefficient: 0.991, p-value: 0.001\n",
            "Spearman correlation coefficient: 1.000, p-value: 0.000\n"
          ]
        }
      ]
    }
  ]
}